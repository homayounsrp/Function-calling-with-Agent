{
 "cells": [
  {
   "cell_type": "code",
   "execution_count": 1,
   "metadata": {},
   "outputs": [
    {
     "name": "stderr",
     "output_type": "stream",
     "text": [
      "/Users/homayouns/Downloads/AgenticRAG/LLM/load_llm.py:24: LangChainDeprecationWarning: The class `AzureOpenAIEmbeddings` was deprecated in LangChain 0.0.9 and will be removed in 1.0. An updated version of the class exists in the :class:`~langchain-openai package and should be used instead. To use it run `pip install -U :class:`~langchain-openai` and import as `from :class:`~langchain_openai import AzureOpenAIEmbeddings``.\n",
      "  embeddings = AzureOpenAIEmbeddings(\n"
     ]
    }
   ],
   "source": [
    "from Components.routing import *\n",
    "from Components.query_planner import *\n",
    "import Components.tools as tools\n",
    "from LLM.load_llm import llm_setup\n",
    "\n",
    "# For text generation using Azure\n",
    "llm_model = llm_setup(mode=\"generate\")\n"
   ]
  },
  {
   "cell_type": "code",
   "execution_count": 2,
   "metadata": {},
   "outputs": [],
   "source": [
    "prompt = \"\"\"\n",
    "What is the product of 10 and 2, and what is the division of 2 by 3?\n",
    "\"\"\""
   ]
  },
  {
   "cell_type": "code",
   "execution_count": 3,
   "metadata": {},
   "outputs": [],
   "source": [
    "queries = plan_query(prompt, llm_model)"
   ]
  },
  {
   "cell_type": "code",
   "execution_count": 4,
   "metadata": {},
   "outputs": [
    {
     "data": {
      "text/plain": [
       "{'query': '\\nWhat is the product of 10 and 2, and what is the division of 2 by 3?\\n',\n",
       " 'answer': QueryPlan(query_graph=[Query(id=1, question='What is the product of 10 and 2?', number1=10.0, number2=2.0, dependencies=[], node_type='SINGLE'), Query(id=2, question='What is the division of 2 by 3?', number1=2.0, number2=3.0, dependencies=[], node_type='SINGLE')])}"
      ]
     },
     "execution_count": 4,
     "metadata": {},
     "output_type": "execute_result"
    }
   ],
   "source": [
    "queries"
   ]
  },
  {
   "cell_type": "code",
   "execution_count": 5,
   "metadata": {},
   "outputs": [
    {
     "name": "stderr",
     "output_type": "stream",
     "text": [
      "/Users/homayouns/Downloads/AgenticRAG/Components/routing.py:38: LangChainDeprecationWarning: The method `BaseChatModel.__call__` was deprecated in langchain-core 0.1.7 and will be removed in 1.0. Use :meth:`~invoke` instead.\n",
      "  routing_response = generate_llm(messages)\n"
     ]
    },
    {
     "name": "stdout",
     "output_type": "stream",
     "text": [
      "LLM Router decision: multiply for question: What is the product of 10 and 2?\n",
      "LLM Router decision: divide for question: What is the division of 2 by 3?\n"
     ]
    },
    {
     "data": {
      "text/markdown": [
       "```markdown\n",
       "The product of 10 and 2 is 20.0, and the result of dividing 2 by 3 is approximately 0.67.\n",
       "```"
      ],
      "text/plain": [
       "<IPython.core.display.Markdown object>"
      ]
     },
     "metadata": {},
     "output_type": "display_data"
    }
   ],
   "source": [
    "from IPython.display import Markdown, display\n",
    "\n",
    "final_answer = process_query_plan(main_query=prompt, query_plan=queries, generate_llm=llm_model, tool_functions=tools)\n",
    "display(Markdown(final_answer))\n"
   ]
  },
  {
   "cell_type": "code",
   "execution_count": null,
   "metadata": {},
   "outputs": [],
   "source": []
  },
  {
   "cell_type": "code",
   "execution_count": null,
   "metadata": {},
   "outputs": [],
   "source": []
  }
 ],
 "metadata": {
  "kernelspec": {
   "display_name": "base",
   "language": "python",
   "name": "python3"
  },
  "language_info": {
   "codemirror_mode": {
    "name": "ipython",
    "version": 3
   },
   "file_extension": ".py",
   "mimetype": "text/x-python",
   "name": "python",
   "nbconvert_exporter": "python",
   "pygments_lexer": "ipython3",
   "version": "3.12.2"
  }
 },
 "nbformat": 4,
 "nbformat_minor": 2
}
